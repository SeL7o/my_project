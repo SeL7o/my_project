{
 "cells": [
  {
   "cell_type": "code",
   "execution_count": 2,
   "id": "3503602d",
   "metadata": {},
   "outputs": [],
   "source": [
    "import numpy as nb \n",
    "import pandas as pd\n",
    "import matplotlib.pyplot as plt \n",
    "import seaborn as sns"
   ]
  },
  {
   "cell_type": "code",
   "execution_count": 4,
   "id": "3fd2a414",
   "metadata": {},
   "outputs": [
    {
     "data": {
      "text/html": [
       "<div>\n",
       "<style scoped>\n",
       "    .dataframe tbody tr th:only-of-type {\n",
       "        vertical-align: middle;\n",
       "    }\n",
       "\n",
       "    .dataframe tbody tr th {\n",
       "        vertical-align: top;\n",
       "    }\n",
       "\n",
       "    .dataframe thead th {\n",
       "        text-align: right;\n",
       "    }\n",
       "</style>\n",
       "<table border=\"1\" class=\"dataframe\">\n",
       "  <thead>\n",
       "    <tr style=\"text-align: right;\">\n",
       "      <th></th>\n",
       "      <th>رقم الموظف</th>\n",
       "      <th>الجنس</th>\n",
       "      <th>الجنسية</th>\n",
       "      <th>العمر</th>\n",
       "      <th>المؤهل</th>\n",
       "      <th>المنطقة الإدارية</th>\n",
       "    </tr>\n",
       "  </thead>\n",
       "  <tbody>\n",
       "    <tr>\n",
       "      <th>0</th>\n",
       "      <td>موظف 1</td>\n",
       "      <td>رجال</td>\n",
       "      <td>سعودي</td>\n",
       "      <td>40</td>\n",
       "      <td>دبلوم بعد الثانوية</td>\n",
       "      <td>منطقة الرياض</td>\n",
       "    </tr>\n",
       "    <tr>\n",
       "      <th>1</th>\n",
       "      <td>موظف 2</td>\n",
       "      <td>رجال</td>\n",
       "      <td>سعودي</td>\n",
       "      <td>36</td>\n",
       "      <td>دبلوم بعد الثانوية</td>\n",
       "      <td>منطقة الرياض</td>\n",
       "    </tr>\n",
       "    <tr>\n",
       "      <th>2</th>\n",
       "      <td>موظف 3</td>\n",
       "      <td>رجال</td>\n",
       "      <td>سعودي</td>\n",
       "      <td>38</td>\n",
       "      <td>ثانوية</td>\n",
       "      <td>منطقة الرياض</td>\n",
       "    </tr>\n",
       "    <tr>\n",
       "      <th>3</th>\n",
       "      <td>موظف 4</td>\n",
       "      <td>رجال</td>\n",
       "      <td>سعودي</td>\n",
       "      <td>32</td>\n",
       "      <td>ثانوية</td>\n",
       "      <td>منطقة الرياض</td>\n",
       "    </tr>\n",
       "    <tr>\n",
       "      <th>4</th>\n",
       "      <td>موظف 5</td>\n",
       "      <td>رجال</td>\n",
       "      <td>الهند</td>\n",
       "      <td>46</td>\n",
       "      <td>دكتوراه</td>\n",
       "      <td>منطقة الرياض</td>\n",
       "    </tr>\n",
       "    <tr>\n",
       "      <th>...</th>\n",
       "      <td>...</td>\n",
       "      <td>...</td>\n",
       "      <td>...</td>\n",
       "      <td>...</td>\n",
       "      <td>...</td>\n",
       "      <td>...</td>\n",
       "    </tr>\n",
       "    <tr>\n",
       "      <th>463308</th>\n",
       "      <td>موظف 463309</td>\n",
       "      <td>رجال</td>\n",
       "      <td>سعودي</td>\n",
       "      <td>28</td>\n",
       "      <td>ثانوية</td>\n",
       "      <td>منطقة الرياض</td>\n",
       "    </tr>\n",
       "    <tr>\n",
       "      <th>463309</th>\n",
       "      <td>موظف 463310</td>\n",
       "      <td>رجال</td>\n",
       "      <td>كــوبا</td>\n",
       "      <td>41</td>\n",
       "      <td>الماجستير</td>\n",
       "      <td>منطقة الرياض</td>\n",
       "    </tr>\n",
       "    <tr>\n",
       "      <th>463310</th>\n",
       "      <td>موظف 463311</td>\n",
       "      <td>نساء</td>\n",
       "      <td>الفلبين</td>\n",
       "      <td>36</td>\n",
       "      <td>البكالوريوس</td>\n",
       "      <td>منطقة الرياض</td>\n",
       "    </tr>\n",
       "    <tr>\n",
       "      <th>463311</th>\n",
       "      <td>موظف 463312</td>\n",
       "      <td>رجال</td>\n",
       "      <td>كــوبا</td>\n",
       "      <td>35</td>\n",
       "      <td>الماجستير</td>\n",
       "      <td>منطقة الرياض</td>\n",
       "    </tr>\n",
       "    <tr>\n",
       "      <th>463312</th>\n",
       "      <td>موظف 463313</td>\n",
       "      <td>نساء</td>\n",
       "      <td>كــوبا</td>\n",
       "      <td>42</td>\n",
       "      <td>الماجستير</td>\n",
       "      <td>منطقة الرياض</td>\n",
       "    </tr>\n",
       "  </tbody>\n",
       "</table>\n",
       "<p>463313 rows × 6 columns</p>\n",
       "</div>"
      ],
      "text/plain": [
       "         رقم الموظف الجنس  الجنسية  العمر              المؤهل المنطقة الإدارية\n",
       "0            موظف 1  رجال    سعودي     40  دبلوم بعد الثانوية     منطقة الرياض\n",
       "1            موظف 2  رجال    سعودي     36  دبلوم بعد الثانوية     منطقة الرياض\n",
       "2            موظف 3  رجال    سعودي     38              ثانوية     منطقة الرياض\n",
       "3            موظف 4  رجال    سعودي     32              ثانوية     منطقة الرياض\n",
       "4            موظف 5  رجال    الهند     46             دكتوراه     منطقة الرياض\n",
       "...             ...   ...      ...    ...                 ...              ...\n",
       "463308  موظف 463309  رجال    سعودي     28              ثانوية     منطقة الرياض\n",
       "463309  موظف 463310  رجال   كــوبا     41           الماجستير     منطقة الرياض\n",
       "463310  موظف 463311  نساء  الفلبين     36         البكالوريوس     منطقة الرياض\n",
       "463311  موظف 463312  رجال   كــوبا     35           الماجستير     منطقة الرياض\n",
       "463312  موظف 463313  نساء   كــوبا     42           الماجستير     منطقة الرياض\n",
       "\n",
       "[463313 rows x 6 columns]"
      ]
     },
     "execution_count": 4,
     "metadata": {},
     "output_type": "execute_result"
    }
   ],
   "source": [
    "dataset = pd.read_csv('government-sector-employees-2021-first-part.csv')\n",
    "dataset"
   ]
  },
  {
   "cell_type": "code",
   "execution_count": 5,
   "id": "21c61b5e",
   "metadata": {},
   "outputs": [
    {
     "name": "stdout",
     "output_type": "stream",
     "text": [
      "<class 'pandas.core.frame.DataFrame'>\n",
      "RangeIndex: 463313 entries, 0 to 463312\n",
      "Data columns (total 6 columns):\n",
      " #   Column            Non-Null Count   Dtype \n",
      "---  ------            --------------   ----- \n",
      " 0   رقم الموظف        463313 non-null  object\n",
      " 1   الجنس             463313 non-null  object\n",
      " 2   الجنسية           463313 non-null  object\n",
      " 3   العمر             463313 non-null  int64 \n",
      " 4   المؤهل            463313 non-null  object\n",
      " 5   المنطقة الإدارية  463313 non-null  object\n",
      "dtypes: int64(1), object(5)\n",
      "memory usage: 21.2+ MB\n"
     ]
    }
   ],
   "source": [
    "dataset.info()"
   ]
  },
  {
   "cell_type": "code",
   "execution_count": 20,
   "id": "d93e0a44",
   "metadata": {},
   "outputs": [
    {
     "data": {
      "text/plain": [
       "رقم الموظف          0\n",
       "الجنس               0\n",
       "الجنسية             0\n",
       "العمر               0\n",
       "المؤهل              0\n",
       "المنطقة الإدارية    0\n",
       "dtype: int64"
      ]
     },
     "execution_count": 20,
     "metadata": {},
     "output_type": "execute_result"
    }
   ],
   "source": [
    "dataset.isna().sum()"
   ]
  },
  {
   "cell_type": "code",
   "execution_count": 21,
   "id": "97adfa4d",
   "metadata": {},
   "outputs": [
    {
     "data": {
      "text/plain": [
       "0"
      ]
     },
     "execution_count": 21,
     "metadata": {},
     "output_type": "execute_result"
    }
   ],
   "source": [
    "dataset.duplicated().sum()"
   ]
  },
  {
   "cell_type": "code",
   "execution_count": 23,
   "id": "90f6612f",
   "metadata": {},
   "outputs": [],
   "source": [
    "dataset.to_csv(\"employees.csv\",index=False)"
   ]
  },
  {
   "cell_type": "code",
   "execution_count": null,
   "id": "9b38010f",
   "metadata": {},
   "outputs": [],
   "source": []
  }
 ],
 "metadata": {
  "kernelspec": {
   "display_name": "Python 3 (ipykernel)",
   "language": "python",
   "name": "python3"
  },
  "language_info": {
   "codemirror_mode": {
    "name": "ipython",
    "version": 3
   },
   "file_extension": ".py",
   "mimetype": "text/x-python",
   "name": "python",
   "nbconvert_exporter": "python",
   "pygments_lexer": "ipython3",
   "version": "3.10.9"
  }
 },
 "nbformat": 4,
 "nbformat_minor": 5
}
